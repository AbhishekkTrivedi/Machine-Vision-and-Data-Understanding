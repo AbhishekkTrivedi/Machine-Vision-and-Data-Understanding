{
  "nbformat": 4,
  "nbformat_minor": 0,
  "metadata": {
    "colab": {
      "name": "Image_Similarity_using_euclidean_distance.ipynb",
      "provenance": [],
      "authorship_tag": "ABX9TyNp2AJedad3D3Ruwlk5b3sB",
      "include_colab_link": true
    },
    "kernelspec": {
      "name": "python3",
      "display_name": "Python 3"
    },
    "language_info": {
      "name": "python"
    }
  },
  "cells": [
    {
      "cell_type": "markdown",
      "metadata": {
        "id": "view-in-github",
        "colab_type": "text"
      },
      "source": [
        "<a href=\"https://colab.research.google.com/github/AbhishekkTrivedi/Machine-Vision-and-Data-Understanding/blob/main/Image_Similarity_using_euclidean_distance.ipynb\" target=\"_parent\"><img src=\"https://colab.research.google.com/assets/colab-badge.svg\" alt=\"Open In Colab\"/></a>"
      ]
    },
    {
      "cell_type": "code",
      "metadata": {
        "id": "1nB3adqt0Wbs"
      },
      "source": [
        "from PIL import Image\n",
        "from collections import Counter\n",
        "import numpy as np\n",
        "import cv2\n",
        "from google.colab.patches import cv2_imshow\n",
        "import matplotlib.pyplot as plt\n",
        "%matplotlib inline"
      ],
      "execution_count": 138,
      "outputs": []
    },
    {
      "cell_type": "code",
      "metadata": {
        "colab": {
          "base_uri": "https://localhost:8080/"
        },
        "id": "sZmKhyFNB1pM",
        "outputId": "05a52f8b-98b0-402a-cad1-e600604c399a"
      },
      "source": [
        "from google.colab import drive\n",
        "drive.mount('/content/gdrive')"
      ],
      "execution_count": 139,
      "outputs": [
        {
          "output_type": "stream",
          "name": "stdout",
          "text": [
            "Drive already mounted at /content/gdrive; to attempt to forcibly remount, call drive.mount(\"/content/gdrive\", force_remount=True).\n"
          ]
        }
      ]
    },
    {
      "cell_type": "code",
      "metadata": {
        "colab": {
          "base_uri": "https://localhost:8080/"
        },
        "id": "wCRG4GoO2Deg",
        "outputId": "b694a927-787f-4c29-e875-c40c6d12f353"
      },
      "source": [
        "reference_image_1 = Image.open('/content/gdrive/MyDrive/sunflower.jpg')\n",
        "reference_image_arr = np.asarray(reference_image_1)\n",
        "print(np.shape(reference_image_arr))"
      ],
      "execution_count": 140,
      "outputs": [
        {
          "output_type": "stream",
          "name": "stdout",
          "text": [
            "(400, 600, 3)\n"
          ]
        }
      ]
    },
    {
      "cell_type": "code",
      "metadata": {
        "colab": {
          "base_uri": "https://localhost:8080/"
        },
        "id": "7VUK5zmw2Ifm",
        "outputId": "c58598be-1e5b-43ff-96cd-7a7650f94eb0"
      },
      "source": [
        "flat_array_1 = reference_image_arr.flatten()\n",
        "print(np.shape(flat_array_1))"
      ],
      "execution_count": 141,
      "outputs": [
        {
          "output_type": "stream",
          "name": "stdout",
          "text": [
            "(720000,)\n"
          ]
        }
      ]
    },
    {
      "cell_type": "code",
      "metadata": {
        "id": "l_QGWDWG2Mkv"
      },
      "source": [
        "RH1 = Counter(flat_array_1)"
      ],
      "execution_count": 142,
      "outputs": []
    },
    {
      "cell_type": "code",
      "metadata": {
        "id": "knhIYffa2Tk9"
      },
      "source": [
        "H1 = []\n",
        "for i in range(256):\n",
        "    if i in RH1.keys():\n",
        "        H1.append(RH1[i])\n",
        "    else:\n",
        "        H1.append(0)"
      ],
      "execution_count": 143,
      "outputs": []
    },
    {
      "cell_type": "code",
      "metadata": {
        "colab": {
          "base_uri": "https://localhost:8080/"
        },
        "id": "LBwynTW2EqDY",
        "outputId": "380193f3-bdea-4682-97a5-dfea0336c43d"
      },
      "source": [
        "reference_image_2 = Image.open('/content/gdrive/MyDrive/rose')\n",
        "reference_image_arr = np.asarray(reference_image_2)\n",
        "print(np.shape(reference_image_arr))\n",
        "flat_array_2 = reference_image_arr.flatten()\n",
        "print(np.shape(flat_array_2))"
      ],
      "execution_count": 145,
      "outputs": [
        {
          "output_type": "stream",
          "name": "stdout",
          "text": [
            "(554, 554, 3)\n",
            "(920748,)\n"
          ]
        }
      ]
    },
    {
      "cell_type": "code",
      "metadata": {
        "id": "oks1NYSKExvr"
      },
      "source": [
        "RH2 = Counter(flat_array_2)\n",
        "H2 = []\n",
        "for i in range(256):\n",
        "    if i in RH2.keys():\n",
        "        H2.append(RH2[i])\n",
        "    else:\n",
        "        H2.append(0)"
      ],
      "execution_count": 146,
      "outputs": []
    },
    {
      "cell_type": "code",
      "metadata": {
        "colab": {
          "base_uri": "https://localhost:8080/"
        },
        "id": "Ui63KX4mJwGw",
        "outputId": "286ca62e-bb87-4980-9c59-38bb5bb98a63"
      },
      "source": [
        "reference_image_3 = Image.open('/content/gdrive/MyDrive/sunflower2')\n",
        "reference_image_arr = np.asarray(reference_image_3)\n",
        "print(np.shape(reference_image_arr))\n",
        "flat_array_3 = reference_image_arr.flatten()\n",
        "print(np.shape(flat_array_3))"
      ],
      "execution_count": 148,
      "outputs": [
        {
          "output_type": "stream",
          "name": "stdout",
          "text": [
            "(1329, 1200, 3)\n",
            "(4784400,)\n"
          ]
        }
      ]
    },
    {
      "cell_type": "code",
      "metadata": {
        "id": "jAzzFXNWJ3y2"
      },
      "source": [
        "RH3 = Counter(flat_array_3)\n",
        "test_H = []\n",
        "for i in range(256):\n",
        "    if i in RH3.keys():\n",
        "        test_H.append(RH3[i])\n",
        "    else:\n",
        "        test_H.append(0)"
      ],
      "execution_count": 149,
      "outputs": []
    },
    {
      "cell_type": "code",
      "metadata": {
        "id": "mWVLvrQs2Xix"
      },
      "source": [
        "def L2Norm(H1,H2):\n",
        "    distance =0\n",
        "    for i in range(len(H1)):\n",
        "        distance += np.square(H1[i]-H2[i])\n",
        "    return np.sqrt(distance)"
      ],
      "execution_count": 151,
      "outputs": []
    },
    {
      "cell_type": "code",
      "metadata": {
        "colab": {
          "base_uri": "https://localhost:8080/"
        },
        "id": "YZYmQflu2b1U",
        "outputId": "7c7ec5e6-87e5-46ab-8849-8116eb836a0b"
      },
      "source": [
        "dist_test_ref_1 = L2Norm(H1,test_H)\n",
        "print(\"The distance between Reference_Image_1 and Test Image is : {}\".format(dist_test_ref_1))"
      ],
      "execution_count": 152,
      "outputs": [
        {
          "output_type": "stream",
          "name": "stdout",
          "text": [
            "The distance between Reference_Image_1 and Test Image is : 415258.3637568303\n"
          ]
        }
      ]
    },
    {
      "cell_type": "code",
      "metadata": {
        "colab": {
          "base_uri": "https://localhost:8080/"
        },
        "id": "olXbWxur2hxP",
        "outputId": "856c3569-18ca-4896-be57-8770f04b9c35"
      },
      "source": [
        "dist_test_ref_2 = L2Norm(H2,test_H)\n",
        "print(\"The distance between Reference_Image_2 and Test Image is : {}\".format(dist_test_ref_2))"
      ],
      "execution_count": 153,
      "outputs": [
        {
          "output_type": "stream",
          "name": "stdout",
          "text": [
            "The distance between Reference_Image_2 and Test Image is : 358979.6416428096\n"
          ]
        }
      ]
    }
  ]
}